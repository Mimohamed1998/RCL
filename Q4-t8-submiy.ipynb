{
 "cells": [
  {
   "cell_type": "markdown",
   "id": "9560e6a1",
   "metadata": {
    "id": "9560e6a1"
   },
   "source": [
    "# Simple Face Mask Detection - Q1"
   ]
  },
  {
   "cell_type": "markdown",
   "id": "35e2eb7a",
   "metadata": {
    "id": "35e2eb7a"
   },
   "source": [
    "**Introduction**\n",
    "\n",
    "In this notebook, we will be evaluating your basic image/video data pre-processing and computer vision based modeling skills. You will be evaluated under three key ares in any computer vision task namely,\n",
    "\n",
    "- Basic Preprocessing Techniques\n",
    "- Basic Model Developement\n",
    "- Basic Inference Techniques"
   ]
  },
  {
   "cell_type": "markdown",
   "id": "2c024b2d",
   "metadata": {
    "id": "2c024b2d"
   },
   "source": [
    "**Task Description**\n",
    "\n",
    "With the covid-19 pandemic face mask detection is a very common problem nowdays in industry with many differnt solutions. Computer vision based solutions are still capable of identifying face masks in both still images and videos rather than other solutions. Developers suggested and developed many libraries and APIs to detect face masks using computer vision. In this notebook you will be asked to develop a simple face mask detection algorithm using computer vision."
   ]
  },
  {
   "cell_type": "markdown",
   "id": "e5eec8bf",
   "metadata": {
    "id": "e5eec8bf"
   },
   "source": [
    "**Dataset Description**\n",
    "\n",
    "You can use Q4 Dataset.zip to get the datatset for this task. Dataset contains images for two different classes which are masked faces and without masked faces.\n",
    "\n",
    "- Mased faces - A folder contains 5000 face images with mask.\n",
    "- Without Mased faces - A folder contains 5000 face images without mask."
   ]
  },
  {
   "cell_type": "markdown",
   "id": "b43a7478",
   "metadata": {
    "id": "b43a7478"
   },
   "source": [
    "**Code Structure**\n",
    "\n",
    "Complete task is divided into three sepearte areas that are mentioned in **Introduction** section. You need to develop sepearte *python fucntions* to each functionality and wrap them up in one *python class* for each section. You may given predefined functions which are expected to be implemented by you and carry more weight on the final score. hence **DO NOT** remove those functions yet you can add any additional functions as you need.\n",
    "\n",
    "**Hint: You have to create 3 sepearte classes for each key area and wrap all the functions within those classes as needed**"
   ]
  },
  {
   "cell_type": "code",
   "execution_count": 244,
   "id": "4b1d943a",
   "metadata": {
    "id": "4b1d943a"
   },
   "outputs": [],
   "source": [
    "# Sample Class\n",
    "\n",
    "class TestClass_1:\n",
    "    \n",
    "    def __init__(self):\n",
    "        pass\n",
    "    \n",
    "    def method_1(self, parameter_1):\n",
    "        pass\n",
    "    \n",
    "    def method_2(self, parameter_2):\n",
    "        pass\n",
    "\n",
    "    # There can be many methods\n",
    "    \n",
    "    def method_3(self, parameter_3):\n",
    "        pass"
   ]
  },
  {
   "cell_type": "markdown",
   "id": "c3ae946f",
   "metadata": {
    "id": "c3ae946f"
   },
   "source": [
    "### Basic Preprocessing Techniques"
   ]
  },
  {
   "cell_type": "markdown",
   "id": "48066759",
   "metadata": {
    "id": "48066759"
   },
   "source": [
    "There are many vision based preprocessing techniques are out there. You will be asked to apply basic techniques such as,\n",
    "- Input images/videos and read them\n",
    "- Change color channels\n",
    "- Crop, Resize etc"
   ]
  },
  {
   "cell_type": "code",
   "execution_count": 245,
   "id": "7098176b",
   "metadata": {
    "id": "7098176b"
   },
   "outputs": [],
   "source": [
    "# Importing required libraries\n",
    "\n",
    "import os\n",
    "import cv2\n",
    "import numpy as np\n",
    "import pandas as pd\n",
    "import matplotlib.pyplot as plt\n",
    "\n",
    "\n",
    "# Any additional libraries go under here\n",
    "# import ...\n",
    "\n",
    "import tensorflow as tf\n",
    "import keras_preprocessing\n",
    "from keras_preprocessing import image\n",
    "\n",
    "import pathlib\n",
    "\n",
    "from tensorflow.keras import layers\n",
    "from tensorflow.keras.models import Sequential"
   ]
  },
  {
   "cell_type": "code",
   "execution_count": 246,
   "id": "46ed551c",
   "metadata": {
    "id": "46ed551c"
   },
   "outputs": [],
   "source": [
    "class BasicPreprocessing:\n",
    "    \n",
    "    def __init__(self):\n",
    "        pass\n",
    "    \n",
    "    def import_dataset(self,dir_path):\n",
    "        return dir_path\n",
    "        \n",
    "    \n",
    "    def bgr_2_gray(self,image):\n",
    "        gray_image = cv2.cvtColor(image, cv2.COLOR_BGR2GRAY)\n",
    "        return gray_image\n",
    "    \n",
    "    def resize(self,img, img_height,img_width):\n",
    "        image_resize = tf.image.resize(img, (img_height,img_width))\n",
    "        return image_resize\n",
    "     \n",
    "    def normalize(self,ds):\n",
    "        \n",
    "        normalization_layer = layers.Rescaling(1./255)\n",
    "        normalized_ds = ds.map(lambda x, y: (normalization_layer(x), y))\n",
    "        return normalized_ds\n",
    "     \n",
    "    \n",
    "    def cate_to_dummy(self):\n",
    "        \"\"\"\n",
    "        Method\n",
    "        ------\n",
    "            Perform one-hot encoding or any other encoding method to convert categorical data into numbers.\n",
    "        \n",
    "        Parameters\n",
    "        ----------\n",
    "            As required\n",
    "          \n",
    "        \"\"\"\n",
    "        pass\n",
    "    \n",
    "    def reshape_data(self):\n",
    "        \"\"\"\n",
    "        Method\n",
    "        ------\n",
    "            Perform reshaping functions to reshape data in a way that a model can take.\n",
    "        \n",
    "        Parameters\n",
    "        ----------\n",
    "            As required\n",
    "          \n",
    "        \"\"\"\n",
    "        pass\n",
    "    \n",
    "    def train_test(self,dir_path,color_signal,resize_parameters,batch_size):\n",
    "        \n",
    "        train_ds = tf.keras.utils.image_dataset_from_directory(\n",
    "            dir_path,\n",
    "            validation_split=0.2,\n",
    "            subset=\"training\",\n",
    "            color_mode= color_signal,\n",
    "            seed=123,\n",
    "            image_size=resize_parameters,\n",
    "            batch_size=batch_size)\n",
    "        \n",
    "        test_ds = tf.keras.utils.image_dataset_from_directory(\n",
    "            dir_path,\n",
    "            validation_split=0.2,\n",
    "            subset=\"validation\",\n",
    "            color_mode= color_signal,\n",
    "            seed=123,\n",
    "            image_size=resize_parameters,\n",
    "            batch_size=batch_size)\n",
    "        \n",
    "        return train_ds, test_ds\n",
    "        \n",
    "        \n",
    "      \n",
    "    # do cross validation \n",
    "    \n",
    "          \n",
    "        \n",
    "    \n",
    "\n",
    "    # All other customized methods go under here\n",
    "    \n",
    "    def any_name(self):\n",
    "        pass"
   ]
  },
  {
   "cell_type": "markdown",
   "id": "1a6eb48b",
   "metadata": {
    "id": "1a6eb48b"
   },
   "source": [
    "### Basic Model Development"
   ]
  },
  {
   "cell_type": "markdown",
   "id": "9647e1f8",
   "metadata": {
    "id": "9647e1f8"
   },
   "source": [
    "There are many ways that you can develop either a machine learing model or deep learning model. Also you can use pretrained models like Resnet50, VGG16, VGG19 etc. But under this task you will be asked to develop a simple model without using any pretrained model.\n",
    "\n",
    "**Hint: Use tensorflow, pytorch or any ML framework you are comfortable with to extract features**"
   ]
  },
  {
   "cell_type": "code",
   "execution_count": 247,
   "id": "5b406523",
   "metadata": {
    "id": "5b406523"
   },
   "outputs": [],
   "source": [
    "class ModelDevelopment:\n",
    "    \n",
    "    def __init__(self):\n",
    "        pass\n",
    "    \n",
    "    def extract_image_features(self,number_of_class):\n",
    "        \n",
    "        model = tf.keras.models.Sequential([\n",
    "            # Note the input shape is the desired size of the image 150x150 with 3 bytes color\n",
    "            # This is the first convolution\n",
    "            tf.keras.layers.Conv2D(64, (3,3), activation='relu', input_shape=(128, 128, 1)),\n",
    "            tf.keras.layers.MaxPooling2D(2, 2),\n",
    "            # The second convolution\n",
    "            tf.keras.layers.Conv2D(64, (3,3), activation='relu'),\n",
    "            tf.keras.layers.MaxPooling2D(2,2),\n",
    "            # The third convolution\n",
    "            tf.keras.layers.Conv2D(128, (3,3), activation='relu'),\n",
    "            tf.keras.layers.MaxPooling2D(2,2),\n",
    "            # The fourth convolution\n",
    "            tf.keras.layers.Conv2D(128, (3,3), activation='relu'),\n",
    "            tf.keras.layers.MaxPooling2D(2,2),\n",
    "            # Flatten the results to feed into a DNN\n",
    "            tf.keras.layers.Flatten(),\n",
    "            tf.keras.layers.Dropout(0.5),\n",
    "            # 512 neuron hidden layer\n",
    "            tf.keras.layers.Dense(512, activation='relu'),\n",
    "            tf.keras.layers.Dense(3, activation='softmax')\n",
    "        ])\n",
    "        \n",
    "        return model\n",
    "    \n",
    "    def train_model(self, model,train_ds,test_ds):\n",
    "        model_1 = model\n",
    "        \n",
    "        model_compile  = model_1.compile(\n",
    "                                    optimizer=\"rmsprop\",\n",
    "                                    loss=\"sparse_categorical_crossentropy\",\n",
    "                                    metrics=[\"sparse_categorical_accuracy\"],\n",
    "                                    )\n",
    "        \n",
    "     \n",
    "        \n",
    "        return model_compile\n",
    "      \n",
    "               \n",
    "    \n",
    "    def test_model(self,model,train_ds,test_ds,epochs):\n",
    "        \n",
    "        history   = model.fit(\n",
    "                            train_ds,\n",
    "                            validation_data=test_ds,\n",
    "                            epochs= epochs\n",
    "                            )\n",
    "        \n",
    "        \n",
    "        return history\n",
    "        \n",
    "        \n",
    "        \n",
    "        \n",
    "               \n",
    "        return history\n",
    "       \n",
    "    \n",
    "    def plot_graphs(self,history_1,epochs ):\n",
    "        \n",
    "        history = history_1   \n",
    "        \n",
    "        acc = history.history['sparse_categorical_accuracy']\n",
    "        val_acc = history.history['val_sparse_categorical_accuracy']\n",
    "        \n",
    "        loss = history.history['loss']\n",
    "        val_loss = history.history['val_loss']\n",
    "        \n",
    "        epochs_range = range(epochs)\n",
    "        \n",
    "        plt.figure(figsize=(8, 8))\n",
    "        plt.subplot(1, 2, 1)\n",
    "        plt.plot(epochs_range, acc, label='Training Accuracy')\n",
    "        plt.plot(epochs_range, val_acc, label='Validation Accuracy')\n",
    "        plt.legend(loc='lower right')\n",
    "        plt.title('Training and Validation Accuracy')\n",
    "\n",
    "        plt.subplot(1, 2, 2)\n",
    "        plt.plot(epochs_range, loss, label='Training Loss')\n",
    "        plt.plot(epochs_range, val_loss, label='Validation Loss')\n",
    "        plt.legend(loc='upper right')\n",
    "        plt.title('Training and Validation Loss')\n",
    "        plt.show() \n",
    "        \n",
    "        return acc\n",
    "       \n",
    "\n",
    "    # All other customized methods go under here\n",
    "    \n",
    "    def any_name(self):\n",
    "        pass"
   ]
  },
  {
   "cell_type": "markdown",
   "id": "51c5c229",
   "metadata": {
    "id": "51c5c229"
   },
   "source": [
    "### Basic Inference Techniques"
   ]
  },
  {
   "cell_type": "markdown",
   "id": "496d4ae2",
   "metadata": {
    "id": "496d4ae2"
   },
   "source": [
    "In here you will be asked to develop a detection method to detect masked faces in static images."
   ]
  },
  {
   "cell_type": "code",
   "execution_count": 248,
   "id": "98726229",
   "metadata": {
    "id": "98726229"
   },
   "outputs": [],
   "source": [
    "class BasicInference:\n",
    "    \n",
    "    def __init__(self):\n",
    "        pass\n",
    "    \n",
    "    def detect_images(self,gray_image,class_names,model):\n",
    "        # plt.imshow(image)\n",
    "        image  = tf.keras.utils.img_to_array(gray_image)\n",
    "        image =  tf.expand_dims(image, 0)\n",
    "        \n",
    "        \n",
    "        predictions = model.predict(image)\n",
    "        score = tf.nn.softmax(predictions[0])\n",
    "        \n",
    "        print(\n",
    "            \"This image most likely belongs to {} with a {:.2f} percent confidence.\"\n",
    "            .format(class_names[np.argmax(score)], 100 * np.max(score))\n",
    "            )\n",
    "        \n",
    "        pass\n",
    "    \n",
    "    \n",
    "    # All other customized methods go under here\n",
    "    \n",
    "    def any_name(self):\n",
    "        pass"
   ]
  },
  {
   "cell_type": "code",
   "execution_count": 249,
   "id": "e74b1efc",
   "metadata": {
    "id": "e74b1efc",
    "outputId": "b63b76c8-01b1-4316-964f-2416d93f3dab"
   },
   "outputs": [
    {
     "name": "stdout",
     "output_type": "stream",
     "text": [
      "Found 7553 files belonging to 2 classes.\n",
      "Using 6043 files for training.\n",
      "Found 7553 files belonging to 2 classes.\n",
      "Using 1510 files for validation.\n",
      "['with_mask', 'without_mask']\n",
      "Epoch 1/20\n",
      "189/189 [==============================] - 197s 1s/step - loss: 0.6465 - sparse_categorical_accuracy: 0.6424 - val_loss: 0.4810 - val_sparse_categorical_accuracy: 0.7583\n",
      "Epoch 2/20\n",
      "189/189 [==============================] - 187s 990ms/step - loss: 0.3876 - sparse_categorical_accuracy: 0.8236 - val_loss: 0.4358 - val_sparse_categorical_accuracy: 0.7821\n",
      "Epoch 3/20\n",
      "189/189 [==============================] - 188s 991ms/step - loss: 0.2823 - sparse_categorical_accuracy: 0.8784 - val_loss: 0.2920 - val_sparse_categorical_accuracy: 0.8583\n",
      "Epoch 4/20\n",
      "189/189 [==============================] - 188s 992ms/step - loss: 0.2458 - sparse_categorical_accuracy: 0.8957 - val_loss: 0.2128 - val_sparse_categorical_accuracy: 0.9192\n",
      "Epoch 5/20\n",
      "189/189 [==============================] - 203s 1s/step - loss: 0.2198 - sparse_categorical_accuracy: 0.9128 - val_loss: 0.1648 - val_sparse_categorical_accuracy: 0.9404\n",
      "Epoch 6/20\n",
      "189/189 [==============================] - 213s 1s/step - loss: 0.1826 - sparse_categorical_accuracy: 0.9275 - val_loss: 0.1461 - val_sparse_categorical_accuracy: 0.9450\n",
      "Epoch 7/20\n",
      "189/189 [==============================] - 187s 988ms/step - loss: 0.1657 - sparse_categorical_accuracy: 0.9350 - val_loss: 0.2760 - val_sparse_categorical_accuracy: 0.9106\n",
      "Epoch 8/20\n",
      "189/189 [==============================] - 186s 982ms/step - loss: 0.1458 - sparse_categorical_accuracy: 0.9441 - val_loss: 0.1462 - val_sparse_categorical_accuracy: 0.9490\n",
      "Epoch 9/20\n",
      "189/189 [==============================] - 189s 1s/step - loss: 0.1350 - sparse_categorical_accuracy: 0.9494 - val_loss: 0.2275 - val_sparse_categorical_accuracy: 0.9192\n",
      "Epoch 10/20\n",
      "189/189 [==============================] - 188s 993ms/step - loss: 0.1356 - sparse_categorical_accuracy: 0.9505 - val_loss: 0.1261 - val_sparse_categorical_accuracy: 0.9536\n",
      "Epoch 11/20\n",
      "189/189 [==============================] - 188s 991ms/step - loss: 0.1164 - sparse_categorical_accuracy: 0.9583 - val_loss: 0.1125 - val_sparse_categorical_accuracy: 0.9589\n",
      "Epoch 12/20\n",
      "189/189 [==============================] - 187s 988ms/step - loss: 0.1142 - sparse_categorical_accuracy: 0.9571 - val_loss: 0.1338 - val_sparse_categorical_accuracy: 0.9497\n",
      "Epoch 13/20\n",
      "189/189 [==============================] - 188s 991ms/step - loss: 0.1057 - sparse_categorical_accuracy: 0.9624 - val_loss: 0.1104 - val_sparse_categorical_accuracy: 0.9616\n",
      "Epoch 14/20\n",
      "189/189 [==============================] - 187s 989ms/step - loss: 0.0950 - sparse_categorical_accuracy: 0.9641 - val_loss: 0.1028 - val_sparse_categorical_accuracy: 0.9649\n",
      "Epoch 15/20\n",
      "189/189 [==============================] - 187s 989ms/step - loss: 0.0902 - sparse_categorical_accuracy: 0.9694 - val_loss: 0.1236 - val_sparse_categorical_accuracy: 0.9543\n",
      "Epoch 16/20\n",
      "189/189 [==============================] - 187s 989ms/step - loss: 0.0995 - sparse_categorical_accuracy: 0.9677 - val_loss: 0.0927 - val_sparse_categorical_accuracy: 0.9669\n",
      "Epoch 17/20\n",
      "189/189 [==============================] - 188s 992ms/step - loss: 0.1029 - sparse_categorical_accuracy: 0.9652 - val_loss: 0.1122 - val_sparse_categorical_accuracy: 0.9662\n",
      "Epoch 18/20\n",
      "189/189 [==============================] - 187s 990ms/step - loss: 0.0966 - sparse_categorical_accuracy: 0.9687 - val_loss: 0.1171 - val_sparse_categorical_accuracy: 0.9550\n",
      "Epoch 19/20\n",
      "189/189 [==============================] - 213s 1s/step - loss: 0.0797 - sparse_categorical_accuracy: 0.9712 - val_loss: 0.1240 - val_sparse_categorical_accuracy: 0.9596\n",
      "Epoch 20/20\n",
      "189/189 [==============================] - 199s 1s/step - loss: 0.0802 - sparse_categorical_accuracy: 0.9725 - val_loss: 0.1154 - val_sparse_categorical_accuracy: 0.9636\n"
     ]
    },
    {
     "data": {
      "image/png": "[encoded data removed]",
      "text/plain": [
       "<Figure size 576x576 with 2 Axes>"
      ]
     },
     "metadata": {
      "needs_background": "light"
     },
     "output_type": "display_data"
    },
    {
     "name": "stdout",
     "output_type": "stream",
     "text": [
      "This image most likely belongs to with_mask with a 57.61 percent confidence.\n",
      "Rootcode AI - Internship Practical (Computer Vision)\n"
     ]
    }
   ],
   "source": [
    "# You can use this space to play with classes and implement the main() fucntion\n",
    "\n",
    "def main():\n",
    "    \n",
    "    # Define the instances\n",
    "    a = BasicPreprocessing()\n",
    "    b = ModelDevelopment()\n",
    "    c = BasicInference()\n",
    "    \n",
    "    # data path\n",
    "    \n",
    "    data_dir = a.import_dataset('Q4 Dataset/data')\n",
    "    \n",
    "    \n",
    "   \n",
    "    # Training and testing sets \n",
    "    batch_size = 32 \n",
    "    \n",
    "    train_ds,test_ds = a.train_test(data_dir,'grayscale',(128,128),batch_size)\n",
    "    \n",
    "    # Normalizing the training data\n",
    "    train_nds = a.normalize(train_ds)\n",
    "    test_nds = a.normalize(test_ds)\n",
    "    \n",
    "    \n",
    "    class_names = train_ds.class_names\n",
    "    print(class_names)\n",
    "    \n",
    "    # Extracting features using Convolution\n",
    "    num_classes = len(class_names)\n",
    "    epochs = 20 \n",
    "    \n",
    "    model = b. extract_image_features(num_classes)\n",
    "    model_compile= b.train_model(model, train_nds, test_nds)\n",
    "    model_history = b.test_model(model, train_nds, test_nds,epochs)\n",
    "    acc = b.plot_graphs(model_history,epochs)\n",
    "    \n",
    "    \n",
    "    # Test images \n",
    "    img = tf.keras.utils.load_img('tm1.jpg',color_mode=\"grayscale\",  target_size=(128, 128))\n",
    "    # resize_image = a.resize(img,128,128)\n",
    "    # gray_image = a. bgr_2_gray(resize_image)\n",
    "    \n",
    "    \n",
    "    \n",
    "    # Predictions \n",
    "    y_predict = c.detect_images( img,class_names,model)\n",
    "  \n",
    "    \n",
    "  \n",
    "    \n",
    "    print(\"Rootcode AI - Internship Practical (Computer Vision)\")\n",
    "\n",
    "    \n",
    "    pass\n",
    "\n",
    "main()"
   ]
  },
  {
   "cell_type": "code",
   "execution_count": null,
   "id": "750137a2",
   "metadata": {},
   "outputs": [],
   "source": []
  }
 ],
 "metadata": {
  "colab": {
   "collapsed_sections": [],
   "name": "Question4.ipynb",
   "provenance": []
  },
  "kernelspec": {
   "display_name": "Python 3 (ipykernel)",
   "language": "python",
   "name": "python3"
  },
  "language_info": {
   "codemirror_mode": {
    "name": "ipython",
    "version": 3
   },
   "file_extension": ".py",
   "mimetype": "text/x-python",
   "name": "python",
   "nbconvert_exporter": "python",
   "pygments_lexer": "ipython3",
   "version": "3.9.7"
  }
 },
 "nbformat": 4,
 "nbformat_minor": 5
}
